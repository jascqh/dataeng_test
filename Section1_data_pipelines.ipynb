{
 "cells": [
  {
   "cell_type": "code",
   "execution_count": 125,
   "id": "2419c1b4",
   "metadata": {},
   "outputs": [],
   "source": [
    "import pandas as pd\n",
    "import re"
   ]
  },
  {
   "cell_type": "code",
   "execution_count": 105,
   "id": "327b285f",
   "metadata": {},
   "outputs": [],
   "source": [
    "df1 = pd.read_csv(\"dataset1.csv\")\n",
    "df2 = pd.read_csv(\"dataset2.csv\")"
   ]
  },
  {
   "cell_type": "markdown",
   "id": "135dabd8",
   "metadata": {},
   "source": [
    "Check for missing data"
   ]
  },
  {
   "cell_type": "code",
   "execution_count": 106,
   "id": "7806f61a",
   "metadata": {},
   "outputs": [
    {
     "data": {
      "text/plain": [
       "name     False\n",
       "price    False\n",
       "dtype: bool"
      ]
     },
     "execution_count": 106,
     "metadata": {},
     "output_type": "execute_result"
    }
   ],
   "source": [
    "df1.isna().any()"
   ]
  },
  {
   "cell_type": "code",
   "execution_count": 107,
   "id": "26937787",
   "metadata": {},
   "outputs": [
    {
     "data": {
      "text/plain": [
       "name      True\n",
       "price    False\n",
       "dtype: bool"
      ]
     },
     "execution_count": 107,
     "metadata": {},
     "output_type": "execute_result"
    }
   ],
   "source": [
    "df2.isna().any()"
   ]
  },
  {
   "cell_type": "code",
   "execution_count": 108,
   "id": "c62c8806",
   "metadata": {},
   "outputs": [
    {
     "data": {
      "text/html": [
       "<div>\n",
       "<style scoped>\n",
       "    .dataframe tbody tr th:only-of-type {\n",
       "        vertical-align: middle;\n",
       "    }\n",
       "\n",
       "    .dataframe tbody tr th {\n",
       "        vertical-align: top;\n",
       "    }\n",
       "\n",
       "    .dataframe thead th {\n",
       "        text-align: right;\n",
       "    }\n",
       "</style>\n",
       "<table border=\"1\" class=\"dataframe\">\n",
       "  <thead>\n",
       "    <tr style=\"text-align: right;\">\n",
       "      <th></th>\n",
       "      <th>name</th>\n",
       "      <th>price</th>\n",
       "    </tr>\n",
       "  </thead>\n",
       "  <tbody>\n",
       "    <tr>\n",
       "      <th>112</th>\n",
       "      <td>NaN</td>\n",
       "      <td>Mr. Manuel Mcfarland Jr.</td>\n",
       "    </tr>\n",
       "    <tr>\n",
       "      <th>128</th>\n",
       "      <td>NaN</td>\n",
       "      <td>Mr. Brian Bradley</td>\n",
       "    </tr>\n",
       "    <tr>\n",
       "      <th>200</th>\n",
       "      <td>NaN</td>\n",
       "      <td>Mr. Trevor Smith</td>\n",
       "    </tr>\n",
       "    <tr>\n",
       "      <th>224</th>\n",
       "      <td>NaN</td>\n",
       "      <td>Mr. Tracy Davis MD</td>\n",
       "    </tr>\n",
       "    <tr>\n",
       "      <th>740</th>\n",
       "      <td>NaN</td>\n",
       "      <td>Mr. Jake Ortiz</td>\n",
       "    </tr>\n",
       "  </tbody>\n",
       "</table>\n",
       "</div>"
      ],
      "text/plain": [
       "    name                     price\n",
       "112  NaN  Mr. Manuel Mcfarland Jr.\n",
       "128  NaN         Mr. Brian Bradley\n",
       "200  NaN          Mr. Trevor Smith\n",
       "224  NaN        Mr. Tracy Davis MD\n",
       "740  NaN            Mr. Jake Ortiz"
      ]
     },
     "execution_count": 108,
     "metadata": {},
     "output_type": "execute_result"
    }
   ],
   "source": [
    "df2[df2[\"name\"].isna()].head()"
   ]
  },
  {
   "cell_type": "code",
   "execution_count": 109,
   "id": "95a1a4ba",
   "metadata": {},
   "outputs": [],
   "source": [
    "df1 = df1.dropna()\n",
    "df2 = df2.dropna()"
   ]
  },
  {
   "cell_type": "code",
   "execution_count": 110,
   "id": "446c2a04",
   "metadata": {},
   "outputs": [
    {
     "name": "stdout",
     "output_type": "stream",
     "text": [
      "5000\n",
      "4961\n"
     ]
    }
   ],
   "source": [
    "print(len(df1))\n",
    "print(len(df2))"
   ]
  },
  {
   "cell_type": "markdown",
   "id": "0629dcdc",
   "metadata": {},
   "source": [
    "## Section 1: Data pipelines"
   ]
  },
  {
   "cell_type": "markdown",
   "id": "441ad29e",
   "metadata": {},
   "source": [
    "Splitting `name` field to `first_name` and `last_name`"
   ]
  },
  {
   "cell_type": "code",
   "execution_count": 121,
   "id": "8d358738",
   "metadata": {},
   "outputs": [],
   "source": [
    "def get_fn(name):\n",
    "    salutations = [\"Mr.\", \"Mrs.\", \"Ms.\", \"Dr.\"]\n",
    "    \n",
    "    try: \n",
    "        name = name.strip()\n",
    "        name = name.split()\n",
    "        if name[0] in salutations:\n",
    "            return name[1]\n",
    "        else: \n",
    "            return name[0]\n",
    "    except AttributeError:\n",
    "        print(name)\n",
    "        print(type(name))\n",
    "    \n",
    "def get_ln(name):\n",
    "    name = name.strip()\n",
    "    name = name.split()[-1]\n",
    "    return name\n",
    "    "
   ]
  },
  {
   "cell_type": "code",
   "execution_count": 122,
   "id": "393937c3",
   "metadata": {},
   "outputs": [],
   "source": [
    "df1[\"first_name\"] = df1[\"name\"].apply(get_fn)\n",
    "df1[\"last_name\"] = df1[\"name\"].apply(get_ln)\n",
    "\n",
    "df2[\"first_name\"] = df2[\"name\"].apply(get_fn)\n",
    "df2[\"last_name\"] = df2[\"name\"].apply(get_ln)"
   ]
  },
  {
   "cell_type": "code",
   "execution_count": 123,
   "id": "79322aa0",
   "metadata": {},
   "outputs": [
    {
     "data": {
      "text/html": [
       "<div>\n",
       "<style scoped>\n",
       "    .dataframe tbody tr th:only-of-type {\n",
       "        vertical-align: middle;\n",
       "    }\n",
       "\n",
       "    .dataframe tbody tr th {\n",
       "        vertical-align: top;\n",
       "    }\n",
       "\n",
       "    .dataframe thead th {\n",
       "        text-align: right;\n",
       "    }\n",
       "</style>\n",
       "<table border=\"1\" class=\"dataframe\">\n",
       "  <thead>\n",
       "    <tr style=\"text-align: right;\">\n",
       "      <th></th>\n",
       "      <th>name</th>\n",
       "      <th>price</th>\n",
       "      <th>first_name</th>\n",
       "      <th>last_name</th>\n",
       "    </tr>\n",
       "  </thead>\n",
       "  <tbody>\n",
       "    <tr>\n",
       "      <th>0</th>\n",
       "      <td>William Dixon</td>\n",
       "      <td>109.037280</td>\n",
       "      <td>William</td>\n",
       "      <td>Dixon</td>\n",
       "    </tr>\n",
       "    <tr>\n",
       "      <th>1</th>\n",
       "      <td>Kristen Horn</td>\n",
       "      <td>262.524652</td>\n",
       "      <td>Kristen</td>\n",
       "      <td>Horn</td>\n",
       "    </tr>\n",
       "    <tr>\n",
       "      <th>2</th>\n",
       "      <td>Kimberly Chang</td>\n",
       "      <td>187.007258</td>\n",
       "      <td>Kimberly</td>\n",
       "      <td>Chang</td>\n",
       "    </tr>\n",
       "    <tr>\n",
       "      <th>3</th>\n",
       "      <td>Mary Ball</td>\n",
       "      <td>283.174648</td>\n",
       "      <td>Mary</td>\n",
       "      <td>Ball</td>\n",
       "    </tr>\n",
       "    <tr>\n",
       "      <th>4</th>\n",
       "      <td>Benjamin Craig</td>\n",
       "      <td>143.871582</td>\n",
       "      <td>Benjamin</td>\n",
       "      <td>Craig</td>\n",
       "    </tr>\n",
       "    <tr>\n",
       "      <th>...</th>\n",
       "      <td>...</td>\n",
       "      <td>...</td>\n",
       "      <td>...</td>\n",
       "      <td>...</td>\n",
       "    </tr>\n",
       "    <tr>\n",
       "      <th>4995</th>\n",
       "      <td>Shirley Nguyen</td>\n",
       "      <td>9.011665</td>\n",
       "      <td>Shirley</td>\n",
       "      <td>Nguyen</td>\n",
       "    </tr>\n",
       "    <tr>\n",
       "      <th>4996</th>\n",
       "      <td>Jesse Brown</td>\n",
       "      <td>247.328232</td>\n",
       "      <td>Jesse</td>\n",
       "      <td>Brown</td>\n",
       "    </tr>\n",
       "    <tr>\n",
       "      <th>4997</th>\n",
       "      <td>Valerie Owens</td>\n",
       "      <td>238.103714</td>\n",
       "      <td>Valerie</td>\n",
       "      <td>Owens</td>\n",
       "    </tr>\n",
       "    <tr>\n",
       "      <th>4998</th>\n",
       "      <td>Alicia Sharp</td>\n",
       "      <td>243.622929</td>\n",
       "      <td>Alicia</td>\n",
       "      <td>Sharp</td>\n",
       "    </tr>\n",
       "    <tr>\n",
       "      <th>4999</th>\n",
       "      <td>Sherry Jensen</td>\n",
       "      <td>13.839516</td>\n",
       "      <td>Sherry</td>\n",
       "      <td>Jensen</td>\n",
       "    </tr>\n",
       "  </tbody>\n",
       "</table>\n",
       "<p>5000 rows × 4 columns</p>\n",
       "</div>"
      ],
      "text/plain": [
       "                name       price first_name last_name\n",
       "0      William Dixon  109.037280    William     Dixon\n",
       "1       Kristen Horn  262.524652    Kristen      Horn\n",
       "2     Kimberly Chang  187.007258   Kimberly     Chang\n",
       "3          Mary Ball  283.174648       Mary      Ball\n",
       "4     Benjamin Craig  143.871582   Benjamin     Craig\n",
       "...              ...         ...        ...       ...\n",
       "4995  Shirley Nguyen    9.011665    Shirley    Nguyen\n",
       "4996     Jesse Brown  247.328232      Jesse     Brown\n",
       "4997   Valerie Owens  238.103714    Valerie     Owens\n",
       "4998    Alicia Sharp  243.622929     Alicia     Sharp\n",
       "4999   Sherry Jensen   13.839516     Sherry    Jensen\n",
       "\n",
       "[5000 rows x 4 columns]"
      ]
     },
     "execution_count": 123,
     "metadata": {},
     "output_type": "execute_result"
    }
   ],
   "source": [
    "df1"
   ]
  },
  {
   "cell_type": "code",
   "execution_count": 124,
   "id": "d8b9e305",
   "metadata": {},
   "outputs": [
    {
     "data": {
      "text/html": [
       "<div>\n",
       "<style scoped>\n",
       "    .dataframe tbody tr th:only-of-type {\n",
       "        vertical-align: middle;\n",
       "    }\n",
       "\n",
       "    .dataframe tbody tr th {\n",
       "        vertical-align: top;\n",
       "    }\n",
       "\n",
       "    .dataframe thead th {\n",
       "        text-align: right;\n",
       "    }\n",
       "</style>\n",
       "<table border=\"1\" class=\"dataframe\">\n",
       "  <thead>\n",
       "    <tr style=\"text-align: right;\">\n",
       "      <th></th>\n",
       "      <th>name</th>\n",
       "      <th>price</th>\n",
       "      <th>first_name</th>\n",
       "      <th>last_name</th>\n",
       "    </tr>\n",
       "  </thead>\n",
       "  <tbody>\n",
       "    <tr>\n",
       "      <th>0</th>\n",
       "      <td>William Garcia</td>\n",
       "      <td>258.1809089</td>\n",
       "      <td>William</td>\n",
       "      <td>Garcia</td>\n",
       "    </tr>\n",
       "    <tr>\n",
       "      <th>1</th>\n",
       "      <td>Barbara Freeman</td>\n",
       "      <td>141.890534</td>\n",
       "      <td>Barbara</td>\n",
       "      <td>Freeman</td>\n",
       "    </tr>\n",
       "    <tr>\n",
       "      <th>2</th>\n",
       "      <td>Rebecca Zimmerman</td>\n",
       "      <td>293.373272</td>\n",
       "      <td>Rebecca</td>\n",
       "      <td>Zimmerman</td>\n",
       "    </tr>\n",
       "    <tr>\n",
       "      <th>3</th>\n",
       "      <td>Patricia Velasquez</td>\n",
       "      <td>249.9479246</td>\n",
       "      <td>Patricia</td>\n",
       "      <td>Velasquez</td>\n",
       "    </tr>\n",
       "    <tr>\n",
       "      <th>4</th>\n",
       "      <td>Ronnie Clark</td>\n",
       "      <td>272.908659</td>\n",
       "      <td>Ronnie</td>\n",
       "      <td>Clark</td>\n",
       "    </tr>\n",
       "    <tr>\n",
       "      <th>...</th>\n",
       "      <td>...</td>\n",
       "      <td>...</td>\n",
       "      <td>...</td>\n",
       "      <td>...</td>\n",
       "    </tr>\n",
       "    <tr>\n",
       "      <th>4995</th>\n",
       "      <td>Rachel Davis</td>\n",
       "      <td>95.25395533</td>\n",
       "      <td>Rachel</td>\n",
       "      <td>Davis</td>\n",
       "    </tr>\n",
       "    <tr>\n",
       "      <th>4996</th>\n",
       "      <td>Connie Hamilton</td>\n",
       "      <td>205.3966853</td>\n",
       "      <td>Connie</td>\n",
       "      <td>Hamilton</td>\n",
       "    </tr>\n",
       "    <tr>\n",
       "      <th>4997</th>\n",
       "      <td>Sean Kaiser</td>\n",
       "      <td>80.54737145</td>\n",
       "      <td>Sean</td>\n",
       "      <td>Kaiser</td>\n",
       "    </tr>\n",
       "    <tr>\n",
       "      <th>4998</th>\n",
       "      <td>Ebony Rodriguez</td>\n",
       "      <td>93.20561606</td>\n",
       "      <td>Ebony</td>\n",
       "      <td>Rodriguez</td>\n",
       "    </tr>\n",
       "    <tr>\n",
       "      <th>4999</th>\n",
       "      <td>Gregg Alexander</td>\n",
       "      <td>297.046886</td>\n",
       "      <td>Gregg</td>\n",
       "      <td>Alexander</td>\n",
       "    </tr>\n",
       "  </tbody>\n",
       "</table>\n",
       "<p>4961 rows × 4 columns</p>\n",
       "</div>"
      ],
      "text/plain": [
       "                    name        price first_name  last_name\n",
       "0         William Garcia  258.1809089    William     Garcia\n",
       "1        Barbara Freeman   141.890534    Barbara    Freeman\n",
       "2      Rebecca Zimmerman   293.373272    Rebecca  Zimmerman\n",
       "3     Patricia Velasquez  249.9479246   Patricia  Velasquez\n",
       "4           Ronnie Clark   272.908659     Ronnie      Clark\n",
       "...                  ...          ...        ...        ...\n",
       "4995        Rachel Davis  95.25395533     Rachel      Davis\n",
       "4996     Connie Hamilton  205.3966853     Connie   Hamilton\n",
       "4997         Sean Kaiser  80.54737145       Sean     Kaiser\n",
       "4998     Ebony Rodriguez  93.20561606      Ebony  Rodriguez\n",
       "4999     Gregg Alexander   297.046886      Gregg  Alexander\n",
       "\n",
       "[4961 rows x 4 columns]"
      ]
     },
     "execution_count": 124,
     "metadata": {},
     "output_type": "execute_result"
    }
   ],
   "source": [
    "df2"
   ]
  },
  {
   "cell_type": "markdown",
   "id": "e69594d9",
   "metadata": {},
   "source": [
    "Check for prepended 0s in `price`"
   ]
  },
  {
   "cell_type": "code",
   "execution_count": 134,
   "id": "c463c843",
   "metadata": {},
   "outputs": [],
   "source": [
    "def removeLeadingZeros(price):\n",
    "    \n",
    "    # convert price to string \n",
    "    price = str(price)\n",
    "    s = price\n",
    "    \n",
    "    # Regex to remove leading\n",
    "    # zeros from a string\n",
    "    regex = \"^0+(?!$)\"\n",
    " \n",
    "    # Replaces the matched\n",
    "    # value with given string\n",
    "    s = re.sub(regex, \"\", s)\n",
    " \n",
    "    return s\n"
   ]
  },
  {
   "cell_type": "code",
   "execution_count": 135,
   "id": "0a811ca7",
   "metadata": {},
   "outputs": [],
   "source": [
    "df1[\"price\"] = df1[\"price\"].apply(removeLeadingZeros)\n",
    "df1[\"price\"] = df1[\"price\"].apply(removeLeadingZeros)\n",
    "\n",
    "df2[\"price\"] = df2[\"price\"].apply(removeLeadingZeros)\n",
    "df2[\"price\"] = df2[\"price\"].apply(removeLeadingZeros)"
   ]
  },
  {
   "cell_type": "markdown",
   "id": "fbf91893",
   "metadata": {},
   "source": [
    "Create a field `above_100` for prices that are stricly greater than 100"
   ]
  },
  {
   "cell_type": "code",
   "execution_count": 141,
   "id": "e2c89856",
   "metadata": {},
   "outputs": [],
   "source": [
    "df1[\"above_100\"] = df1[\"price\"].apply(lambda x: True if float(x)>100 else False)\n",
    "df2[\"above_100\"] = df2[\"price\"].apply(lambda x: True if float(x)>100 else False)"
   ]
  },
  {
   "cell_type": "markdown",
   "id": "452a2f3a",
   "metadata": {},
   "source": [
    "Save new datasets"
   ]
  },
  {
   "cell_type": "code",
   "execution_count": 142,
   "id": "06eff6d7",
   "metadata": {},
   "outputs": [],
   "source": [
    "df1.to_csv(\"dataset1_processed.csv\")\n",
    "df2.to_csv(\"dataset2_processed.csv\")"
   ]
  }
 ],
 "metadata": {
  "kernelspec": {
   "display_name": "Python 3",
   "language": "python",
   "name": "python3"
  },
  "language_info": {
   "codemirror_mode": {
    "name": "ipython",
    "version": 3
   },
   "file_extension": ".py",
   "mimetype": "text/x-python",
   "name": "python",
   "nbconvert_exporter": "python",
   "pygments_lexer": "ipython3",
   "version": "3.8.8"
  }
 },
 "nbformat": 4,
 "nbformat_minor": 5
}
